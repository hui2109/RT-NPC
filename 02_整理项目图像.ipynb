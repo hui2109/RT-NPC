{
 "cells": [
  {
   "cell_type": "code",
   "id": "initial_id",
   "metadata": {
    "collapsed": true,
    "ExecuteTime": {
     "end_time": "2025-04-22T06:16:38.838530Z",
     "start_time": "2025-04-22T06:16:38.824057Z"
    }
   },
   "source": [
    "from pathlib import Path\n",
    "\n",
    "import pandas as pd\n",
    "from shutil import copytree"
   ],
   "outputs": [],
   "execution_count": 48
  },
  {
   "metadata": {
    "ExecuteTime": {
     "end_time": "2025-04-22T06:16:39.344690Z",
     "start_time": "2025-04-22T06:16:39.296631Z"
    }
   },
   "cell_type": "code",
   "source": [
    "root_path = Path('./assets/images/original_images/NPCDATA')\n",
    "ordered_path = Path('./assets/images/original_images/OrderedDATA')\n",
    "df = pd.read_excel('./assets/index.xlsx')"
   ],
   "id": "2e725ec149246931",
   "outputs": [],
   "execution_count": 49
  },
  {
   "metadata": {
    "ExecuteTime": {
     "end_time": "2025-04-22T06:16:39.767711Z",
     "start_time": "2025-04-22T06:16:39.757579Z"
    }
   },
   "cell_type": "code",
   "source": [
    "def get_related_dir(name: str):\n",
    "    dirs = []\n",
    "    for _dir in root_path.iterdir():\n",
    "        if name in _dir.stem:\n",
    "            dirs.append(_dir)\n",
    "    return dirs"
   ],
   "id": "73a2bef3c15dcfed",
   "outputs": [],
   "execution_count": 50
  },
  {
   "metadata": {
    "ExecuteTime": {
     "end_time": "2025-04-22T06:18:02.782842Z",
     "start_time": "2025-04-22T06:17:29.496501Z"
    }
   },
   "cell_type": "code",
   "source": [
    "for index, row in df.iterrows():\n",
    "    index = row.iloc[0]\n",
    "    name = row.iloc[2]\n",
    "    related_dirs = get_related_dir(name)\n",
    "\n",
    "    patient_dir = Path(ordered_path / f'{index:02}_{name}')\n",
    "    patient_dir.mkdir(parents=True, exist_ok=True)\n",
    "\n",
    "    for i in range(len(related_dirs)):\n",
    "        related_dir = related_dirs[i]\n",
    "        exam_date = related_dir.stem.split('_')[1]\n",
    "        CBCT_dir = Path(patient_dir / f'{i+1:02}_CBCT_{exam_date}')\n",
    "        copytree(related_dir, CBCT_dir)"
   ],
   "id": "f293953398c6360c",
   "outputs": [],
   "execution_count": 52
  },
  {
   "metadata": {},
   "cell_type": "code",
   "outputs": [],
   "execution_count": null,
   "source": "",
   "id": "8bd70941d7918eda"
  }
 ],
 "metadata": {
  "kernelspec": {
   "display_name": "Python 3",
   "language": "python",
   "name": "python3"
  },
  "language_info": {
   "codemirror_mode": {
    "name": "ipython",
    "version": 2
   },
   "file_extension": ".py",
   "mimetype": "text/x-python",
   "name": "python",
   "nbconvert_exporter": "python",
   "pygments_lexer": "ipython2",
   "version": "2.7.6"
  }
 },
 "nbformat": 4,
 "nbformat_minor": 5
}
