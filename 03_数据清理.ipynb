{
 "cells": [
  {
   "cell_type": "code",
   "id": "initial_id",
   "metadata": {
    "collapsed": true,
    "ExecuteTime": {
     "end_time": "2025-04-23T06:46:03.454345Z",
     "start_time": "2025-04-23T06:46:03.257693Z"
    }
   },
   "source": [
    "from pathlib import Path\n",
    "from pydicom import dcmread"
   ],
   "outputs": [],
   "execution_count": 1
  },
  {
   "metadata": {
    "ExecuteTime": {
     "end_time": "2025-04-23T07:36:04.476526Z",
     "start_time": "2025-04-23T07:36:04.467528Z"
    }
   },
   "cell_type": "code",
   "source": "root_path = Path('./assets/images/original_images/OrderedDATA')",
   "id": "de923d680c7e6868",
   "outputs": [],
   "execution_count": 42
  },
  {
   "metadata": {
    "ExecuteTime": {
     "end_time": "2025-04-23T07:39:42.334420Z",
     "start_time": "2025-04-23T07:39:42.317319Z"
    }
   },
   "cell_type": "code",
   "source": [
    "def checkGTVnx(desDir:Path):\n",
    "    rt_file = list(desDir.glob('RS.*'))[0]\n",
    "    rt_dcm = dcmread(rt_file)\n",
    "    for i in rt_dcm.StructureSetROISequence:\n",
    "        if i.ROIName == 'GTVnx':\n",
    "            return 'True'\n",
    "    return desDir"
   ],
   "id": "474f404c6270481f",
   "outputs": [],
   "execution_count": 50
  },
  {
   "metadata": {
    "ExecuteTime": {
     "end_time": "2025-04-23T07:39:45.079908Z",
     "start_time": "2025-04-23T07:39:42.596722Z"
    }
   },
   "cell_type": "code",
   "source": [
    "for patient_dir in root_path.iterdir():\n",
    "    for CBCT_dir in patient_dir.iterdir():\n",
    "        result = checkGTVnx(CBCT_dir)\n",
    "        if result == 'True':\n",
    "            pass\n",
    "        else:\n",
    "            print(result)"
   ],
   "id": "f7fb1c88dbf6b7ad",
   "outputs": [
    {
     "name": "stdout",
     "output_type": "stream",
     "text": [
      "assets\\images\\original_images\\OrderedDATA\\112_邬谷刚\\01_CBCT_20240910\n",
      "assets\\images\\original_images\\OrderedDATA\\112_邬谷刚\\02_CBCT_20240918\n",
      "assets\\images\\original_images\\OrderedDATA\\112_邬谷刚\\03_CBCT_20240925\n",
      "assets\\images\\original_images\\OrderedDATA\\112_邬谷刚\\04_CBCT_20241005\n",
      "assets\\images\\original_images\\OrderedDATA\\133_罗东\\01_CBCT_20241217\n",
      "assets\\images\\original_images\\OrderedDATA\\133_罗东\\02_CBCT_20241224\n",
      "assets\\images\\original_images\\OrderedDATA\\133_罗东\\03_CBCT_20241230\n",
      "assets\\images\\original_images\\OrderedDATA\\133_罗东\\04_CBCT_20250106\n",
      "assets\\images\\original_images\\OrderedDATA\\36_罗琼英\\01_CBCT_20230815\n",
      "assets\\images\\original_images\\OrderedDATA\\36_罗琼英\\02_CBCT_20230822\n",
      "assets\\images\\original_images\\OrderedDATA\\36_罗琼英\\03_CBCT_20230829\n",
      "assets\\images\\original_images\\OrderedDATA\\36_罗琼英\\04_CBCT_20230911\n",
      "assets\\images\\original_images\\OrderedDATA\\42_吕淑兵\\01_CBCT_20230907\n",
      "assets\\images\\original_images\\OrderedDATA\\42_吕淑兵\\02_CBCT_20230914\n",
      "assets\\images\\original_images\\OrderedDATA\\42_吕淑兵\\03_CBCT_20230921\n",
      "assets\\images\\original_images\\OrderedDATA\\42_吕淑兵\\04_CBCT_20230928\n",
      "assets\\images\\original_images\\OrderedDATA\\43_罗安英\\02_CBCT_20230922\n",
      "assets\\images\\original_images\\OrderedDATA\\45_张志荣\\01_CBCT_20230926\n",
      "assets\\images\\original_images\\OrderedDATA\\45_张志荣\\02_CBCT_20231005\n",
      "assets\\images\\original_images\\OrderedDATA\\45_张志荣\\03_CBCT_20231013\n",
      "assets\\images\\original_images\\OrderedDATA\\45_张志荣\\04_CBCT_20231020\n",
      "assets\\images\\original_images\\OrderedDATA\\62_柯启东\\01_CBCT_20231205\n",
      "assets\\images\\original_images\\OrderedDATA\\78_彭棍\\01_CBCT_20240312\n",
      "assets\\images\\original_images\\OrderedDATA\\78_彭棍\\02_CBCT_20240320\n",
      "assets\\images\\original_images\\OrderedDATA\\78_彭棍\\03_CBCT_20240327\n",
      "assets\\images\\original_images\\OrderedDATA\\78_彭棍\\04_CBCT_20240405\n",
      "assets\\images\\original_images\\OrderedDATA\\80_袁传富\\01_CBCT_20240315\n",
      "assets\\images\\original_images\\OrderedDATA\\80_袁传富\\02_CBCT_20240322\n",
      "assets\\images\\original_images\\OrderedDATA\\80_袁传富\\03_CBCT_20240329\n",
      "assets\\images\\original_images\\OrderedDATA\\80_袁传富\\04_CBCT_20240405\n",
      "assets\\images\\original_images\\OrderedDATA\\92_宋大奎\\01_CBCT_20240528\n",
      "assets\\images\\original_images\\OrderedDATA\\92_宋大奎\\02_CBCT_20240604\n",
      "assets\\images\\original_images\\OrderedDATA\\92_宋大奎\\03_CBCT_20240612\n",
      "assets\\images\\original_images\\OrderedDATA\\92_宋大奎\\04_CBCT_20240624\n"
     ]
    }
   ],
   "execution_count": 51
  },
  {
   "metadata": {},
   "cell_type": "code",
   "outputs": [],
   "execution_count": null,
   "source": [
    "substituteForGTVnx = {\n",
    "    '112_邬谷刚/01_CBCT_20240910': 'GTV1',\n",
    "    '112_邬谷刚/02_CBCT_20240918': 'GTV1',\n",
    "    '112_邬谷刚/03_CBCT_20240925': 'GTV1',\n",
    "    '112_邬谷刚/04_CBCT_20241005': 'GTV1',\n",
    "\n",
    "    '133_罗东/01_CBCT_20241217': \"GTV1\",\n",
    "    '133_罗东/02_CBCT_20241224': \"GTV1\",\n",
    "    '133_罗东/03_CBCT_20241230': \"GTV1\",\n",
    "    '133_罗东/04_CBCT_20250106': \"GTV1\",\n",
    "\n",
    "    '36_罗琼英/01_CBCT_20230815': \"GTV4\",\n",
    "    '36_罗琼英/02_CBCT_20230822': \"GTV4\",\n",
    "    '36_罗琼英/03_CBCT_20230829': \"GTV4\",\n",
    "    '36_罗琼英/04_CBCT_20230911': \"GTV4\",\n",
    "\n",
    "    '42_吕淑兵/01_CBCT_20230907': \"GTV3\",\n",
    "    '42_吕淑兵/02_CBCT_20230914': \"GTV3\",\n",
    "    '42_吕淑兵/03_CBCT_20230921': \"GTV3\",\n",
    "    '42_吕淑兵/04_CBCT_20230928': \"GTV3\",\n",
    "\n",
    "    '45_张志荣/01_CBCT_20230926': 'PTV',\n",
    "    '45_张志荣/02_CBCT_20231005': 'PTV',\n",
    "    '45_张志荣/03_CBCT_20231013': 'PTV',\n",
    "    '45_张志荣/04_CBCT_20231020': 'PTV',\n",
    "\n",
    "    '78_彭棍/01_CBCT_20240312': 'GTV2',\n",
    "    '78_彭棍/02_CBCT_20240320': 'GTV2',\n",
    "    '78_彭棍/03_CBCT_20240327': 'GTV2',\n",
    "    '78_彭棍/04_CBCT_20240405': 'GTV2',\n",
    "\n",
    "}"
   ],
   "id": "6929b41fece67f04"
  }
 ],
 "metadata": {
  "kernelspec": {
   "display_name": "Python 3",
   "language": "python",
   "name": "python3"
  },
  "language_info": {
   "codemirror_mode": {
    "name": "ipython",
    "version": 2
   },
   "file_extension": ".py",
   "mimetype": "text/x-python",
   "name": "python",
   "nbconvert_exporter": "python",
   "pygments_lexer": "ipython2",
   "version": "2.7.6"
  }
 },
 "nbformat": 4,
 "nbformat_minor": 5
}
